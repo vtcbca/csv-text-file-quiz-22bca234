{
 "cells": [
  {
   "cell_type": "code",
   "execution_count": 7,
   "id": "65c4d9aa",
   "metadata": {},
   "outputs": [],
   "source": [
    "import csv"
   ]
  },
  {
   "cell_type": "code",
   "execution_count": 8,
   "id": "c7049e00",
   "metadata": {},
   "outputs": [],
   "source": [
    "with open('C:\\\\22BCA234\\\\DB&PYTHON\\\\contact1.csv','w',newline='') as csvfile:\n",
    "    write_obj=csv.writer(csvfile)\n",
    "    header=['NAME','CONTACT']\n",
    "    write_obj.writerow(header)\n",
    "    records_LIST=[['OM',9090909090],['SAI',8080808080],['RAM',7070707070],['RADHA',6060606060],['KRISHNA',9080706050],\n",
    "                  ['SHIV',8090809080],['PARVATI',7080907080],['LAXSHMI',6070809808],['SARASWATI',6070607060],\n",
    "                  ['NAYAN',9060906060]]\n",
    "    write_obj.writerows(records_LIST)"
   ]
  },
  {
   "cell_type": "markdown",
   "id": "c0b9e078",
   "metadata": {},
   "source": [
    "### Printing all records"
   ]
  },
  {
   "cell_type": "code",
   "execution_count": 9,
   "id": "8b90a6f0",
   "metadata": {},
   "outputs": [],
   "source": [
    "from csv import DictReader\n",
    "with open('C:\\\\22BCA234\\\\DB&PYTHON\\\\contact1.csv','r',newline='') as read: \n",
    "    read_obj=DictReader(read)\n",
    "    for row in read_obj:\n",
    "            print(row['NAME'],row['CONTACT'])\n",
    "    "
   ]
  },
  {
   "cell_type": "code",
   "execution_count": 10,
   "id": "afad0d3f",
   "metadata": {},
   "outputs": [],
   "source": [
    "name=input('Enter the NAME of the person who's contact you want : ')\n",
    "with open('C:\\\\22BCA234\\\\DB&PYTHON\\\\contact1.csv','r',newline='') as read: \n",
    "    SKIP_HEADER=next(read)\n",
    "    reader_obj=csv.reader()\n",
    "    for row in read_obj:\n",
    "           if(row[0]==name):\n",
    "               print(row)\n",
    "        "
   ]
  },
  {
   "cell_type": "code",
   "execution_count": null,
   "id": "b94620b7",
   "metadata": {},
   "outputs": [],
   "source": []
  }
 ],
 "metadata": {
  "kernelspec": {
   "display_name": "Python 3 (ipykernel)",
   "language": "python",
   "name": "python3"
  },
  "language_info": {
   "codemirror_mode": {
    "name": "ipython",
    "version": 3
   },
   "file_extension": ".py",
   "mimetype": "text/x-python",
   "name": "python",
   "nbconvert_exporter": "python",
   "pygments_lexer": "ipython3",
   "version": "3.9.6"
  }
 },
 "nbformat": 4,
 "nbformat_minor": 5
}
